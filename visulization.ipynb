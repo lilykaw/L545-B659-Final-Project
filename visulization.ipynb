{
 "cells": [
  {
   "cell_type": "code",
   "execution_count": 32,
   "metadata": {},
   "outputs": [],
   "source": [
    "import pandas as pd\n",
    "import matplotlib.pyplot as plt\n",
    "plt.style.use('ggplot')\n",
    "import numpy as np"
   ]
  },
  {
   "cell_type": "markdown",
   "metadata": {},
   "source": [
    "# Statistics of the Data"
   ]
  },
  {
   "cell_type": "code",
   "execution_count": 29,
   "metadata": {},
   "outputs": [],
   "source": [
    "test_df = pd.read_csv('./StanceDataset/test.csv', engine='python', dtype='str', encoding ='latin1')\n",
    "train_df = pd.read_csv('./StanceDataset/train.csv', engine='python', dtype='str', encoding ='latin1')\n",
    "\n",
    "test_stat = test_df['Target'].value_counts().to_dict()\n",
    "train_stat = train_df['Target'].value_counts().to_dict()"
   ]
  },
  {
   "cell_type": "code",
   "execution_count": 50,
   "metadata": {},
   "outputs": [],
   "source": [
    "# modify the stat\n",
    "test_stat_modified = []\n",
    "train_stat_modified = []\n",
    "targets = list(sorted(test_stat.keys()))\n",
    "for k in targets:\n",
    "    if k in train_stat.keys():\n",
    "        test_stat_modified.append(test_stat[k])\n",
    "        train_stat_modified.append(train_stat[k])\n",
    "    else:\n",
    "        test_stat_modified.append(test_stat[k])\n",
    "        train_stat_modified.append(0)"
   ]
  },
  {
   "cell_type": "code",
   "execution_count": 56,
   "metadata": {},
   "outputs": [],
   "source": [
    "width = 0.2\n",
    "index = np.arange(len(targets))\n",
    "\n",
    "plt.figure(figsize=(9, 4), dpi=200)\n",
    "plt.title(\"Tweet Counts of each Target\")\n",
    "plt.xlabel(\"Targets\")\n",
    "plt.xticks(rotation=15)\n",
    "plt.ylabel(\"Count\")\n",
    "plt.bar(targets, test_stat_modified, width=width, label='Test')\n",
    "plt.bar(index+width, train_stat_modified, width=width, label='Train')\n",
    "plt.legend()\n",
    "plt.savefig('./img/data_statistics.png')\n",
    "plt.close()\n",
    "# plt.show()"
   ]
  },
  {
   "cell_type": "markdown",
   "metadata": {},
   "source": [
    "# Visualization of the Results\n",
    "\n",
    "## 1. All"
   ]
  },
  {
   "cell_type": "code",
   "execution_count": 5,
   "metadata": {},
   "outputs": [
    {
     "name": "stdout",
     "output_type": "stream",
     "text": [
      "                             Target  AllWords  Default_BOW  Optimized_BOW  \\\n",
      "0                   Hillary Clinton  0.623729     0.630508       0.633898   \n",
      "1  Climate Change is a Real Concern  0.727811     0.727811       0.739645   \n",
      "2          Legalization of Abortion  0.692857     0.689286       0.689286   \n",
      "3                           Atheism  0.731818     0.722727       0.722727   \n",
      "4                 Feminist Movement  0.642105     0.621053       0.642105   \n",
      "\n",
      "   Default_SubLexicon  Optimized_SubLexicon  Default_ArgLexicon  \\\n",
      "0            0.627119              0.657627            0.627119   \n",
      "1            0.733728              0.733728            0.721893   \n",
      "2            0.689286              0.689286            0.692857   \n",
      "3            0.731818              0.731818            0.731818   \n",
      "4            0.631579              0.642105            0.642105   \n",
      "\n",
      "   Optimized_ArgLexicon  \n",
      "0              0.661017  \n",
      "1              0.727811  \n",
      "2              0.692857  \n",
      "3              0.731818  \n",
      "4              0.642105  \n"
     ]
    }
   ],
   "source": [
    "RESULTS_PATH = 'results.csv'\n",
    "\n",
    "df = pd.read_csv(RESULTS_PATH, sep='\\t')\n",
    "print(df)"
   ]
  },
  {
   "cell_type": "code",
   "execution_count": 57,
   "metadata": {},
   "outputs": [],
   "source": [
    "plt.figure(figsize=(12, 5), dpi=200)\n",
    "plt.title(\"Classification Accuracy\")\n",
    "plt.xlabel(\"Feature Type\")\n",
    "# plt.xticks(rotation=45)\n",
    "plt.ylabel(\"Accuracy\")\n",
    "plt.plot_date(df['Target'], df['Default_BOW'], '-', label=\"Default_BOW\")\n",
    "plt.plot_date(df['Target'], df['Optimized_BOW'],'-', label=\"Optimized_BOW\")\n",
    "plt.plot_date(df['Target'], df['Default_SubLexicon'],'-', label=\"Default_SubLexicon\")\n",
    "plt.plot_date(df['Target'], df['Optimized_SubLexicon'],'-', label=\"Optimized_SubLexicon\")\n",
    "plt.plot_date(df['Target'], df['Default_ArgLexicon'],'-', label=\"Default_ArgLexicon\")\n",
    "plt.plot_date(df['Target'], df['Optimized_ArgLexicon'],'-', label=\"Optimized_ArgLexicon\")\n",
    "plt.legend()\n",
    "plt.grid(True)\n",
    "plt.savefig('./img/results.png')\n",
    "plt.close()"
   ]
  },
  {
   "cell_type": "markdown",
   "metadata": {},
   "source": [
    "## 2. Part A"
   ]
  },
  {
   "cell_type": "code",
   "execution_count": 58,
   "metadata": {},
   "outputs": [],
   "source": [
    "plt.figure(figsize=(12, 5), dpi=200)\n",
    "plt.title(\"Classification Accuracy\")\n",
    "plt.xlabel(\"Feature Type\")\n",
    "# plt.xticks(rotation=45)\n",
    "plt.ylabel(\"Accuracy\")\n",
    "plt.plot_date(df['Target'], df['AllWords'], '-', label=\"Default\")\n",
    "plt.plot_date(df['Target'], df['Default_BOW'], '-', label=\"Default_BOW\")\n",
    "plt.plot_date(df['Target'], df['Optimized_BOW'],'-', label=\"Optimized_BOW\")\n",
    "plt.legend()\n",
    "plt.grid(True)\n",
    "plt.savefig('./img/results_a.png')\n",
    "plt.close()\n",
    "# plt.show()"
   ]
  },
  {
   "cell_type": "code",
   "execution_count": null,
   "metadata": {},
   "outputs": [],
   "source": []
  }
 ],
 "metadata": {
  "interpreter": {
   "hash": "5e79b097b9f9d8c0e692e73ee0ca2b44ddfd3c4b5e0a617df02adcd118e8b422"
  },
  "kernelspec": {
   "display_name": "Python 3.9.1 64-bit",
   "language": "python",
   "name": "python3"
  },
  "language_info": {
   "codemirror_mode": {
    "name": "ipython",
    "version": 3
   },
   "file_extension": ".py",
   "mimetype": "text/x-python",
   "name": "python",
   "nbconvert_exporter": "python",
   "pygments_lexer": "ipython3",
   "version": "3.6.10"
  },
  "orig_nbformat": 4
 },
 "nbformat": 4,
 "nbformat_minor": 2
}
