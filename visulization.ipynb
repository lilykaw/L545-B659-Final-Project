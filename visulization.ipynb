{
 "cells": [
  {
   "cell_type": "code",
   "execution_count": 1,
   "metadata": {},
   "outputs": [
    {
     "name": "stdout",
     "output_type": "stream",
     "text": [
      "                             Target  Default_BOW  Optimized_BOW  \\\n",
      "0                   Hillary Clinton     0.630508       0.633898   \n",
      "1  Climate Change is a Real Concern     0.727811       0.739645   \n",
      "2          Legalization of Abortion     0.689286       0.689286   \n",
      "3                           Atheism     0.722727       0.722727   \n",
      "4                 Feminist Movement     0.621053       0.642105   \n",
      "\n",
      "   Default_SubLexicon  Optimized_SubLexicon  Default_ArgLexicon  \\\n",
      "0            0.627119              0.657627            0.627119   \n",
      "1            0.733728              0.733728            0.721893   \n",
      "2            0.689286              0.689286            0.692857   \n",
      "3            0.731818              0.731818            0.731818   \n",
      "4            0.631579              0.642105            0.642105   \n",
      "\n",
      "   Optimized_ArgLexicon  \n",
      "0              0.661017  \n",
      "1              0.727811  \n",
      "2              0.692857  \n",
      "3              0.731818  \n",
      "4              0.642105  \n"
     ]
    }
   ],
   "source": [
    "import pandas as pd\n",
    "import matplotlib.pyplot as plt\n",
    "plt.style.use('ggplot')\n",
    "\n",
    "RESULTS_PATH = 'results.csv'\n",
    "\n",
    "df = pd.read_csv(RESULTS_PATH, sep='\\t')\n",
    "print(df)"
   ]
  },
  {
   "cell_type": "code",
   "execution_count": 8,
   "metadata": {},
   "outputs": [],
   "source": [
    "plt.figure(figsize=(12, 5), dpi=200)\n",
    "plt.title(\"Classification Accuracy\")\n",
    "plt.xlabel(\"Feature Type\")\n",
    "# plt.xticks(rotation=45)\n",
    "plt.ylabel(\"Accuracy\")\n",
    "plt.plot_date(df['Target'], df['Default_BOW'], '-', label=\"Default_BOW\")\n",
    "plt.plot_date(df['Target'], df['Optimized_BOW'],'-', label=\"Optimized_BOW\")\n",
    "plt.plot_date(df['Target'], df['Default_SubLexicon'],'-', label=\"Default_SubLexicon\")\n",
    "plt.plot_date(df['Target'], df['Optimized_SubLexicon'],'-', label=\"Optimized_SubLexicon\")\n",
    "plt.plot_date(df['Target'], df['Default_ArgLexicon'],'-', label=\"Default_ArgLexicon\")\n",
    "plt.plot_date(df['Target'], df['Optimized_ArgLexicon'],'-', label=\"Optimized_ArgLexicon\")\n",
    "plt.legend()\n",
    "plt.grid(True)\n",
    "plt.savefig('./results.png')\n",
    "plt.close()"
   ]
  }
 ],
 "metadata": {
  "interpreter": {
   "hash": "5e79b097b9f9d8c0e692e73ee0ca2b44ddfd3c4b5e0a617df02adcd118e8b422"
  },
  "kernelspec": {
   "display_name": "Python 3.9.1 64-bit",
   "language": "python",
   "name": "python3"
  },
  "language_info": {
   "codemirror_mode": {
    "name": "ipython",
    "version": 3
   },
   "file_extension": ".py",
   "mimetype": "text/x-python",
   "name": "python",
   "nbconvert_exporter": "python",
   "pygments_lexer": "ipython3",
   "version": "3.6.10"
  },
  "orig_nbformat": 4
 },
 "nbformat": 4,
 "nbformat_minor": 2
}
